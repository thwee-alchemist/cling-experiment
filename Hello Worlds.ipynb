{
 "cells": [
  {
   "cell_type": "markdown",
   "metadata": {},
   "source": [
    "# Hello, Worlds\n",
    "I just got C++ working inside of a jupyter notebook. "
   ]
  },
  {
   "cell_type": "code",
   "execution_count": 1,
   "metadata": {},
   "outputs": [
    {
     "name": "stdout",
     "output_type": "stream",
     "text": [
      "Hello, Worlds!\n"
     ]
    },
    {
     "data": {
      "text/plain": [
       "(std::basic_ostream<char, std::char_traits<char> >::__ostream_type &) @0x7fdbaed75f40\n"
      ]
     },
     "execution_count": 1,
     "metadata": {},
     "output_type": "execute_result"
    }
   ],
   "source": [
    "#include <iostream>\n",
    "using namespace std;\n",
    "\n",
    "cout << \"Hello, Worlds!\" << endl;"
   ]
  },
  {
   "cell_type": "markdown",
   "metadata": {},
   "source": [
    "That'll come in handy in case I ever have to write C++."
   ]
  },
  {
   "cell_type": "code",
   "execution_count": null,
   "metadata": {},
   "outputs": [
    {
     "name": "stdout",
     "output_type": "stream",
     "text": [
      "10\n",
      "9\n",
      "8\n",
      "7\n",
      "6\n",
      "5\n",
      "4\n",
      "3\n",
      "2\n",
      "1\n",
      "0\n",
      "liftoff\n"
     ]
    }
   ],
   "source": [
    "#include <iostream>\n",
    "using namespace std;\n",
    "\n",
    "for(int i=10; i>=0; i--){\n",
    "    cout << i << endl;\n",
    "}\n",
    "cout << \"liftoff\" << endl;"
   ]
  },
  {
   "cell_type": "code",
   "execution_count": null,
   "metadata": {},
   "outputs": [],
   "source": [
    "#include <iostream>\n",
    "#include <ostream>\n",
    "using namespace std;\n",
    "\n",
    "class SomeClass \n",
    "{\n",
    "    public: \n",
    "        SomeClass()\n",
    "        {\n",
    "            this->num = 0;\n",
    "        };\n",
    "    \n",
    "        void print(ostream& s) const\n",
    "        {\n",
    "            s << num << endl; \n",
    "        };\n",
    "    \n",
    "    private:\n",
    "        int num; \n",
    "};\n",
    "\n",
    "SomeClass * sc = new SomeClass();\n",
    "sc->print(cout);\n"
   ]
  },
  {
   "cell_type": "code",
   "execution_count": null,
   "metadata": {},
   "outputs": [],
   "source": [
    "#include <iostream>\n",
    "using namespace std;\n",
    "\n",
    "class ClassWithString\n",
    "{\n",
    "    public: \n",
    "        ClassWithString()\n",
    "        {\n",
    "            name = \"Trapped soul, don't release!\";\n",
    "        }\n",
    "    \n",
    "        void print(ostream& out)\n",
    "        {\n",
    "            out << name << endl;\n",
    "        }\n",
    "    \n",
    "    private:\n",
    "        string name;\n",
    "};\n",
    "\n",
    "ClassWithString cws = new ClassWithString();\n",
    "cws.print(cout);"
   ]
  },
  {
   "cell_type": "code",
   "execution_count": null,
   "metadata": {},
   "outputs": [],
   "source": []
  }
 ],
 "metadata": {
  "kernelspec": {
   "display_name": "C++11",
   "language": "C++",
   "name": "cling-cpp11"
  },
  "language_info": {
   "codemirror_mode": "c++",
   "file_extension": ".c++",
   "mimetype": "text/x-c++src",
   "name": "c++"
  }
 },
 "nbformat": 4,
 "nbformat_minor": 2
}
