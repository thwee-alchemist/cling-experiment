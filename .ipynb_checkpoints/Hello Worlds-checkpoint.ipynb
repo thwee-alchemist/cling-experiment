{
 "cells": [
  {
   "cell_type": "markdown",
   "metadata": {},
   "source": [
    "# Hello, Worlds\n",
    "\n",
    "A short exploration of the cling C++11 runtime in the jupyter lab notebook environment by [Joshua Marshall Moore](thwee.abacadabra.alchemist@gmail.com).\n",
    "\n",
    "March 11th, 2018"
   ]
  },
  {
   "cell_type": "markdown",
   "metadata": {},
   "source": [
    "## Hooray!\n",
    "I just got C++ working inside of a jupyter lab notebook via cling. The deciding article was found on [stackoverflow.com](https://stackoverflow.com/questions/35647998/cling-kernel-for-jupyter-on-ubuntu). The information there is still pertinent. "
   ]
  },
  {
   "cell_type": "code",
   "execution_count": 1,
   "metadata": {},
   "outputs": [
    {
     "name": "stdout",
     "output_type": "stream",
     "text": [
      "Hello, Worlds!\n"
     ]
    },
    {
     "data": {
      "text/plain": [
       "(std::basic_ostream<char, std::char_traits<char> >::__ostream_type &) @0x7f364bc03f40\n"
      ]
     },
     "execution_count": 1,
     "metadata": {},
     "output_type": "execute_result"
    }
   ],
   "source": [
    "#include <iostream>\n",
    "using namespace std;\n",
    "\n",
    "cout << \"Hello, Worlds!\" << endl;"
   ]
  },
  {
   "cell_type": "markdown",
   "metadata": {},
   "source": [
    "That'll come in handy in case I ever have to write C++ again, say in school. "
   ]
  },
  {
   "cell_type": "markdown",
   "metadata": {},
   "source": [
    "## A Countdown"
   ]
  },
  {
   "cell_type": "code",
   "execution_count": 2,
   "metadata": {},
   "outputs": [
    {
     "name": "stdout",
     "output_type": "stream",
     "text": [
      "10\n",
      "9\n",
      "8\n",
      "7\n",
      "6\n",
      "5\n",
      "4\n",
      "3\n",
      "2\n",
      "1\n",
      "0\n",
      "liftoff\n"
     ]
    },
    {
     "data": {
      "text/plain": [
       "(std::basic_ostream<char, std::char_traits<char> >::__ostream_type &) @0x7f364bc03f40\n"
      ]
     },
     "execution_count": 2,
     "metadata": {},
     "output_type": "execute_result"
    }
   ],
   "source": [
    "#include <iostream>\n",
    "using namespace std;\n",
    "\n",
    "for(int i=10; i>=0; i--){\n",
    "    cout << i << endl;\n",
    "}\n",
    "cout << \"liftoff\" << endl;"
   ]
  },
  {
   "cell_type": "markdown",
   "metadata": {},
   "source": [
    "## A Class Example"
   ]
  },
  {
   "cell_type": "code",
   "execution_count": 3,
   "metadata": {},
   "outputs": [
    {
     "name": "stdout",
     "output_type": "stream",
     "text": [
      "0\n"
     ]
    },
    {
     "data": {
      "text/plain": [
       "(void) @0x7f36459e2da0\n"
      ]
     },
     "execution_count": 3,
     "metadata": {},
     "output_type": "execute_result"
    }
   ],
   "source": [
    "#include <ostream>\n",
    "\n",
    "class SomeClass \n",
    "{\n",
    "    public: \n",
    "        SomeClass()\n",
    "        {\n",
    "            num = 0;\n",
    "        };\n",
    "    \n",
    "        void print(ostream& s) const\n",
    "        {\n",
    "            s << num << endl; \n",
    "        };\n",
    "    \n",
    "    protected:\n",
    "        int num; \n",
    "};\n",
    "\n",
    "SomeClass * sc = new SomeClass();\n",
    "sc->print(cout);"
   ]
  },
  {
   "cell_type": "markdown",
   "metadata": {},
   "source": [
    "## Multiple Inheritance"
   ]
  },
  {
   "cell_type": "code",
   "execution_count": 4,
   "metadata": {},
   "outputs": [
    {
     "name": "stdout",
     "output_type": "stream",
     "text": [
      "Trapped soul, don't release!\n"
     ]
    },
    {
     "data": {
      "text/plain": [
       "(void) @0x7f36459e2da0\n"
      ]
     },
     "execution_count": 4,
     "metadata": {},
     "output_type": "execute_result"
    }
   ],
   "source": [
    "class ClassWithString\n",
    "{\n",
    "    public: \n",
    "        ClassWithString()\n",
    "        {\n",
    "            name = \"Trapped soul, don't release!\";\n",
    "        }\n",
    "    \n",
    "        void print(ostream& out)\n",
    "        {\n",
    "            out << name << endl;\n",
    "        }\n",
    "    \n",
    "    protected:\n",
    "        string name;\n",
    "};\n",
    "\n",
    "ClassWithString * cws = new ClassWithString();\n",
    "cws->print(cout);"
   ]
  },
  {
   "cell_type": "code",
   "execution_count": 5,
   "metadata": {},
   "outputs": [
    {
     "name": "stdout",
     "output_type": "stream",
     "text": [
      "Trapped soul, don't release! 0\n"
     ]
    },
    {
     "data": {
      "text/plain": [
       "(void) @0x7f36459e2da0\n"
      ]
     },
     "execution_count": 5,
     "metadata": {},
     "output_type": "execute_result"
    }
   ],
   "source": [
    "class InheritsFromClassWithStringAndSomeClass : public ClassWithString, public SomeClass\n",
    "{\n",
    "    public:\n",
    "        InheritsFromClassWithStringAndSomeClass()\n",
    "        {\n",
    "        }\n",
    "        \n",
    "        void print(ostream& out)\n",
    "        {\n",
    "            out << name << \" \" << num << endl; \n",
    "        }\n",
    "};\n",
    "\n",
    "InheritsFromClassWithStringAndSomeClass * i = new InheritsFromClassWithStringAndSomeClass();\n",
    "i->print(cout);"
   ]
  },
  {
   "cell_type": "markdown",
   "metadata": {},
   "source": [
    "## Conclusion"
   ]
  },
  {
   "cell_type": "markdown",
   "metadata": {},
   "source": [
    "Restarting the kernel and rerunning all cells is your friend, in case something doesn't work. "
   ]
  },
  {
   "cell_type": "markdown",
   "metadata": {},
   "source": [
    "An advance for literate programming this will present. "
   ]
  },
  {
   "cell_type": "code",
   "execution_count": null,
   "metadata": {},
   "outputs": [],
   "source": []
  }
 ],
 "metadata": {
  "kernelspec": {
   "display_name": "C++11",
   "language": "C++",
   "name": "cling-cpp11"
  },
  "language_info": {
   "codemirror_mode": "c++",
   "file_extension": ".c++",
   "mimetype": "text/x-c++src",
   "name": "c++"
  }
 },
 "nbformat": 4,
 "nbformat_minor": 2
}
